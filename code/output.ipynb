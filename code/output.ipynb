{
 "cells": [
  {
   "cell_type": "code",
   "execution_count": null,
   "id": "2ebb0db3-86cc-492b-a0b8-ac5865a42bc7",
   "metadata": {},
   "outputs": [],
   "source": [
    "from pathlib import Path\n",
    "import pandas as pd"
   ]
  },
  {
   "cell_type": "code",
   "execution_count": null,
   "id": "96bdb3b2-11c7-4cd8-b6b8-184552c0e8a0",
   "metadata": {},
   "outputs": [],
   "source": [
    "def get_color(player, game):\n",
    "    player = player.lower()\n",
    "    if player in game[\"White\"].split(\",\")[0].lower():\n",
    "        return \"White\"\n",
    "    elif player in game[\"Black\"].split(\",\")[0].lower():\n",
    "        return \"Black\"\n",
    "    else:\n",
    "        raise Exception(\"Player not in game\")"
   ]
  },
  {
   "cell_type": "code",
   "execution_count": null,
   "id": "4b69a6f8-8cc6-42d9-a132-cf8c05b6db6b",
   "metadata": {},
   "outputs": [],
   "source": [
    "def get_cp_loss(player):\n",
    "    cp = pd.read_csv(f\"output/centipawns/{player}.csv\", index_col=0)\n",
    "    cp = cp.clip(-1000, 1000)\n",
    "    diffs = cp.diff(axis=1)\n",
    "    md = pd.read_csv(f\"output/metadata/{player}.csv\", index_col=0)\n",
    "    colors = [get_color(player, row) for _, row in md.iterrows()]\n",
    "    all_diffs = []\n",
    "    for i in range(cp.shape[0]):\n",
    "        start = 0 if colors[i] == \"Black\" else 1\n",
    "        player_diffs = diffs.iloc[i, :].dropna()[start::2].values\n",
    "        if colors[i] == \"White\":\n",
    "            player_diffs *= -1\n",
    "        player_diffs = player_diffs.clip(min=0)\n",
    "        all_diffs.append(player_diffs)\n",
    "    df = pd.DataFrame(all_diffs)\n",
    "    df.to_csv(f\"output/cp_loss/{player}.csv\")"
   ]
  },
  {
   "cell_type": "code",
   "execution_count": null,
   "id": "1368014c-8faa-4253-abcb-4955d25ba0e7",
   "metadata": {},
   "outputs": [],
   "source": [
    "pgns = Path(\"pgns\")\n",
    "#players = [pgn.stem for pgn in pgns.glob(\"*.pgn\")] # uncomment once all players are processed\n",
    "players = ['carlsen', 'erigaisi', 'gukesh', 'nepo', 'niemann']\n",
    "players"
   ]
  },
  {
   "cell_type": "markdown",
   "id": "40e7b112-99dd-4802-8a6e-17067c4ba0f6",
   "metadata": {},
   "source": [
    "Calculate move-by-move centipawn loss."
   ]
  },
  {
   "cell_type": "code",
   "execution_count": null,
   "id": "e5b503ec-6b3b-4cce-af2e-06d4e8c7220f",
   "metadata": {},
   "outputs": [],
   "source": [
    "for player in players:\n",
    "    print(player)\n",
    "    get_cp_loss(player)"
   ]
  },
  {
   "cell_type": "markdown",
   "id": "db13f32c",
   "metadata": {},
   "source": [
    "Calculate mean cp loss"
   ]
  },
  {
   "cell_type": "code",
   "execution_count": null,
   "id": "c2db3bbe-a450-4476-99de-9a77f3c888fd",
   "metadata": {},
   "outputs": [],
   "source": [
    "for player in players:\n",
    "    loss = pd.read_csv(f\"output/cp_loss/{player}.csv\", index_col=0)\n",
    "    mean_cp = loss.mean(axis=1)\n",
    "    df = pd.DataFrame({'Mean_CP':mean_cp})\n",
    "    df.to_csv(f\"output/mean_cp_loss/{player}.csv\")"
   ]
  },
  {
   "cell_type": "markdown",
   "id": "e790aae7",
   "metadata": {},
   "source": [
    "Calculate std cp loss"
   ]
  },
  {
   "cell_type": "code",
   "execution_count": null,
   "id": "33d2d6a8",
   "metadata": {},
   "outputs": [],
   "source": [
    "for player in players:\n",
    "    loss = pd.read_csv(f\"output/cp_loss/{player}.csv\", index_col=0)\n",
    "    std_cp = loss.std(axis=1)\n",
    "    df = pd.DataFrame({'Std_CP':std_cp})\n",
    "    df.to_csv(f\"output/std_cp_loss/{player}.csv\")"
   ]
  },
  {
   "cell_type": "markdown",
   "id": "2a1d4f3f",
   "metadata": {},
   "source": [
    "Calculate elo"
   ]
  },
  {
   "cell_type": "code",
   "execution_count": null,
   "id": "80c503f5",
   "metadata": {},
   "outputs": [],
   "source": [
    "import re\n",
    "\n",
    "for player in players:\n",
    "    md = pd.read_csv(f\"output/metadata/{player}.csv\", index_col=0)\n",
    "    mask_w = md['White'].str.contains(player, flags=re.IGNORECASE, regex=True)\n",
    "    mask_b = md['Black'].str.contains(player, flags=re.IGNORECASE, regex=True)\n",
    "    md['Elo'] = 0\n",
    "    md['Opp Elo'] = 0\n",
    "    \n",
    "    # player elo\n",
    "    md.loc[mask_w, 'Elo'] = md['WhiteElo']\n",
    "    md.loc[mask_b, 'Elo'] = md['BlackElo']\n",
    "    \n",
    "    # opp elo\n",
    "    md.loc[~mask_w, 'Opp Elo'] = md['WhiteElo']\n",
    "    md.loc[~mask_b, 'Opp Elo'] = md['BlackElo']\n",
    "    \n",
    "    df = pd.DataFrame(md[['Elo', 'Opp Elo']])\n",
    "    df.to_csv(f\"output/elo/{player}.csv\")"
   ]
  },
  {
   "cell_type": "markdown",
   "id": "c00a2047",
   "metadata": {},
   "source": [
    "Get player-based win-loss"
   ]
  },
  {
   "cell_type": "code",
   "execution_count": null,
   "id": "a557bc86",
   "metadata": {},
   "outputs": [],
   "source": [
    "for player in players:\n",
    "    md = pd.read_csv(f\"output/metadata/{player}.csv\", index_col=0)\n",
    "    mask_w = md['White'].str.contains(player, flags=re.IGNORECASE, regex=True)\n",
    "    mask_b = md['Black'].str.contains(player, flags=re.IGNORECASE, regex=True)\n",
    "    \n",
    "    md['WinLoss'] = 0\n",
    "    \n",
    "    # player winloss\n",
    "    md.loc[mask_w, 'WinLoss'] = [x.split('-')[0] for x in md.loc[mask_w,'Result']]\n",
    "    md.loc[mask_b, 'WinLoss'] = [x.split('-')[1] for x in md.loc[mask_b,'Result']]\n",
    "    \n",
    "    df = pd.DataFrame(md['WinLoss'])\n",
    "    df[df['WinLoss'] == 0] = -1\n",
    "    df[df['WinLoss'] == '0'] = -1\n",
    "    df[df['WinLoss'] == \"1/2\"] = 0\n",
    "    df.to_csv(f\"output/winloss/{player}.csv\")"
   ]
  },
  {
   "cell_type": "markdown",
   "id": "21a1311b",
   "metadata": {},
   "source": [
    "Get White win-loss"
   ]
  },
  {
   "cell_type": "code",
   "execution_count": null,
   "id": "f15d5ffa",
   "metadata": {},
   "outputs": [],
   "source": [
    "for player in players:\n",
    "    md = pd.read_csv(f\"output/metadata/{player}.csv\", index_col=0)\n",
    "    \n",
    "    md['WhiteWinLoss'] = [x.split('-')[0] for x in md['Result']]\n",
    "    \n",
    "    df = pd.DataFrame(md['WhiteWinLoss'])\n",
    "    df[df['WhiteWinLoss'] == 0] = -1\n",
    "    df[df['WhiteWinLoss'] == '0'] = -1\n",
    "    df[df['WhiteWinLoss'] == \"1/2\"] = 0\n",
    "    df.to_csv(f\"output/whitewinloss/{player}.csv\")"
   ]
  },
  {
   "cell_type": "markdown",
   "id": "717b5744",
   "metadata": {},
   "source": [
    "Get age"
   ]
  },
  {
   "cell_type": "code",
   "execution_count": null,
   "id": "dadb39e0",
   "metadata": {},
   "outputs": [],
   "source": [
    "## helper functions\n",
    "from enum import Enum\n",
    "\n",
    "## players' birthdays\n",
    "class Birthdays(Enum):\n",
    "    Anand = \"1969.12.11\"\n",
    "    Andreikin = \"1990.02.05\"\n",
    "    Aronian = \"1982.10.06\"\n",
    "    Bu = \"1985.12.10\"\n",
    "    carlsen = \"1990.11.30\"\n",
    "    Caruana = \"1992.07.30\"\n",
    "    ding = \"1992.10.24\"\n",
    "    DominguezPerez = \"1983.09.23\"\n",
    "    Duda = \"1998.04.26\"\n",
    "    Eljanov = \"1983.05.10\"\n",
    "    erigaisi = \"2003.09.03\"\n",
    "    Firouzja = \"2003.06.18\"\n",
    "    Giri = \"1994.06.28\"\n",
    "    Grischuk = \"1983.10.31\"\n",
    "    gukesh = \"2006.05.29\"\n",
    "    Harikrishna = \"1986.05.10\"\n",
    "    Karjakin = \"1990.01.12\"\n",
    "    Le = \"1991.03.13\"\n",
    "    Mamedyarov = \"1985.04.12\"\n",
    "    Nakamura = \"1987.12.09\"\n",
    "    nepo = \"1990.07.14\"\n",
    "    niemann = \"2003.06.18\"\n",
    "    Radjabov = \"1987.03.12\"\n",
    "    Rapport = \"1996.03.25\"\n",
    "    So = \"1993.10.09\"\n",
    "    Tomashevsky = \"1987.07.01\"\n",
    "    Topalov = \"1975.03.15\"\n",
    "    VachierLagrave = \"1990.10.21\"\n",
    "    VallejoPons = \"1982.08.21\"\n",
    "    Vitiugov = \"1987.02.04\"\n",
    "    WangH = \"1989.08.04\"\n",
    "    Wei = \"1999.06.02\"\n",
    "    Yu = \"1994.06.08\"\n",
    "  \n",
    "from datetime import datetime\n",
    "from dateutil.parser import parse  \n",
    "\n",
    "## ref: https://stackoverflow.com/questions/25341945/check-if-string-has-date-any-format\n",
    "## ref: https://stackoverflow.com/questions/63121002/how-to-subtract-dates-in-pythons-datetime-module-to-get-age-in-a-year-month-d\n",
    "\n",
    "def calculateAge(player, df):\n",
    "    dates = df['Date']\n",
    "    birthday = Birthdays[player].value\n",
    "    birthday = datetime.strptime(birthday, '%Y.%m.%d')\n",
    "    ages = []\n",
    "    \n",
    "    for game_date in dates:\n",
    "        try: #check if cell is a datetime format\n",
    "            parse(game_date)\n",
    "        except:\n",
    "            continue\n",
    "        \n",
    "        game_date = datetime.strptime(game_date, '%Y.%m.%d')\n",
    "        age = game_date.year - birthday.year - ((game_date.month, game_date.day) < (birthday.month, birthday.day)) \n",
    "        ages.append(age)\n",
    "    return ages"
   ]
  },
  {
   "cell_type": "code",
   "execution_count": null,
   "id": "76e341d8",
   "metadata": {},
   "outputs": [],
   "source": [
    "for player in players:\n",
    "    md = pd.read_csv(f\"output/metadata/{player}.csv\", index_col=0)\n",
    "    ages = calculateAge(player, md)\n",
    "    df = pd.DataFrame({'Age':ages})\n",
    "    df.to_csv(f\"output/age/{player}.csv\")"
   ]
  },
  {
   "cell_type": "markdown",
   "id": "79a24471",
   "metadata": {},
   "source": [
    "Get number of years playing chess"
   ]
  },
  {
   "cell_type": "code",
   "execution_count": null,
   "id": "085a6657",
   "metadata": {},
   "outputs": [],
   "source": [
    "## age when players started playing chess\n",
    "class Time(Enum):\n",
    "    Anand = 6\n",
    "    Andreikin = 6 #could not find online. filling in with mean of other players\n",
    "    Aronian = 9\n",
    "    Bu = 6\n",
    "    carlsen = 5\n",
    "    Caruana = 5\n",
    "    ding = 4\n",
    "    DominguezPerez = 6 #could not find online. filling in with mean of other players\n",
    "    Duda = 5\n",
    "    Eljanov = 6 #could not find online. filling in with mean of other players\n",
    "    erigaisi = 8\n",
    "    Firouzja = 8\n",
    "    Giri = 6\n",
    "    Grischuk = 4\n",
    "    gukesh = 7\n",
    "    Harikrishna = 4\n",
    "    Karjakin = 5\n",
    "    Le = 7\n",
    "    Mamedyarov = 8\n",
    "    Nakamura = 7\n",
    "    nepo = 4\n",
    "    niemann = 8\n",
    "    Radjabov = 3\n",
    "    Rapport = 4\n",
    "    So = 6\n",
    "    Tomashevsky = 6 #could not find online. filling in with mean of other players\n",
    "    Topalov = 8\n",
    "    VachierLagrave = 5\n",
    "    VallejoPons = 5\n",
    "    Vitiugov = 6 #could not find online. filling in with mean of other players\n",
    "    WangH = 6\n",
    "    Wei = 8\n",
    "    Yu = 7\n"
   ]
  },
  {
   "cell_type": "code",
   "execution_count": null,
   "id": "fefd3308",
   "metadata": {},
   "outputs": [],
   "source": [
    "for player in players:\n",
    "    age = pd.read_csv(f\"output/age/{player}.csv\", index_col=0)\n",
    "    df = age - Time[player].value\n",
    "    df.rename(columns={\"Age\":\"Time\"}, inplace=True)\n",
    "    df.to_csv(f\"output/time/{player}.csv\")"
   ]
  },
  {
   "cell_type": "markdown",
   "id": "727c530b",
   "metadata": {},
   "source": [
    "Combine into one big data set"
   ]
  },
  {
   "cell_type": "code",
   "execution_count": null,
   "id": "04e91f53",
   "metadata": {},
   "outputs": [],
   "source": [
    "for player in players:\n",
    "    age = pd.read_csv(f\"output/age/{player}.csv\", index_col=0)\n",
    "    time = pd.read_csv(f\"output/time/{player}.csv\", index_col=0)\n",
    "    means = pd.read_csv(f\"output/mean_cp_loss/{player}.csv\", index_col=0)\n",
    "    stds = pd.read_csv(f\"output/std_cp_loss/{player}.csv\", index_col=0)\n",
    "    elo = pd.read_csv(f\"output/elo/{player}.csv\", index_col=0)\n",
    "    wl = pd.read_csv(f\"output/winloss/{player}.csv\", index_col=0)\n",
    "    whitewl = pd.read_csv(f\"output/whitewinloss/{player}.csv\", index_col=0)\n",
    "    \n",
    "    df = pd.concat([age, time, means, stds, elo, wl, whitewl], axis=1)\n",
    "    df = df.dropna()\n",
    "    df = df.reset_index(drop=True)\n",
    "    \n",
    "    df.to_csv(f\"./data/{player}.csv\")"
   ]
  }
 ],
 "metadata": {
  "kernelspec": {
   "display_name": "Python 3.10.6 ('ANLY501')",
   "language": "python",
   "name": "python3"
  },
  "language_info": {
   "codemirror_mode": {
    "name": "ipython",
    "version": 3
   },
   "file_extension": ".py",
   "mimetype": "text/x-python",
   "name": "python",
   "nbconvert_exporter": "python",
   "pygments_lexer": "ipython3",
   "version": "3.10.6"
  },
  "vscode": {
   "interpreter": {
    "hash": "ea9dbe9f1ceea520258f7c79d3032f6041e6e0b09a8802a98b59f7606cb93a48"
   }
  }
 },
 "nbformat": 4,
 "nbformat_minor": 5
}
