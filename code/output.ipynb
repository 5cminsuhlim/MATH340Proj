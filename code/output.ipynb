{
 "cells": [
  {
   "cell_type": "code",
   "execution_count": 1,
   "id": "2ebb0db3-86cc-492b-a0b8-ac5865a42bc7",
   "metadata": {},
   "outputs": [],
   "source": [
    "from pathlib import Path\n",
    "import pandas as pd"
   ]
  },
  {
   "cell_type": "code",
   "execution_count": null,
   "id": "96bdb3b2-11c7-4cd8-b6b8-184552c0e8a0",
   "metadata": {},
   "outputs": [],
   "source": [
    "def get_color(player, game):\n",
    "    player = player.lower()\n",
    "    if player in game[\"White\"].split(\",\")[0].lower():\n",
    "        return \"White\"\n",
    "    elif player in game[\"Black\"].split(\",\")[0].lower():\n",
    "        return \"Black\"\n",
    "    else:\n",
    "        raise Exception(\"Player not in game\")"
   ]
  },
  {
   "cell_type": "code",
   "execution_count": null,
   "id": "4b69a6f8-8cc6-42d9-a132-cf8c05b6db6b",
   "metadata": {},
   "outputs": [],
   "source": [
    "def get_cp_loss(player):\n",
    "    cp = pd.read_csv(f\"output/centipawns/{player}.csv\", index_col=0)\n",
    "    cp = cp.clip(-1000, 1000)\n",
    "    diffs = cp.diff(axis=1)\n",
    "    md = pd.read_csv(f\"output/metadata/{player}.csv\", index_col=0)\n",
    "    colors = [get_color(player, row) for _, row in md.iterrows()]\n",
    "    all_diffs = []\n",
    "    for i in range(cp.shape[0]):\n",
    "        start = 0 if colors[i] == \"Black\" else 1\n",
    "        player_diffs = diffs.iloc[i, :].dropna()[start::2].values\n",
    "        if colors[i] == \"White\":\n",
    "            player_diffs *= -1\n",
    "        player_diffs = player_diffs.clip(min=0)\n",
    "        all_diffs.append(player_diffs)\n",
    "    df = pd.DataFrame(all_diffs)\n",
    "    df.to_csv(f\"output/cp_loss/{player}.csv\")"
   ]
  },
  {
   "cell_type": "code",
   "execution_count": 25,
   "id": "1368014c-8faa-4253-abcb-4955d25ba0e7",
   "metadata": {},
   "outputs": [
    {
     "data": {
      "text/plain": [
       "['carlsen', 'erigaisi', 'gukesh', 'nepo', 'niemann']"
      ]
     },
     "execution_count": 25,
     "metadata": {},
     "output_type": "execute_result"
    }
   ],
   "source": [
    "pgns = Path(\"pgns\")\n",
    "#players = [pgn.stem for pgn in pgns.glob(\"*.pgn\")]\n",
    "players = ['carlsen', 'erigaisi', 'gukesh', 'nepo', 'niemann']\n",
    "players"
   ]
  },
  {
   "cell_type": "markdown",
   "id": "40e7b112-99dd-4802-8a6e-17067c4ba0f6",
   "metadata": {},
   "source": [
    "Calculate move-by-move centipawn loss."
   ]
  },
  {
   "cell_type": "code",
   "execution_count": null,
   "id": "e5b503ec-6b3b-4cce-af2e-06d4e8c7220f",
   "metadata": {},
   "outputs": [],
   "source": [
    "for player in players:\n",
    "    print(player)\n",
    "    get_cp_loss(player)"
   ]
  },
  {
   "cell_type": "markdown",
   "id": "db13f32c",
   "metadata": {},
   "source": [
    "Calculate mean cp loss"
   ]
  },
  {
   "cell_type": "code",
   "execution_count": 9,
   "id": "c2db3bbe-a450-4476-99de-9a77f3c888fd",
   "metadata": {},
   "outputs": [],
   "source": [
    "for player in players:\n",
    "    loss = pd.read_csv(f\"output/cp_loss/{player}.csv\", index_col=0)\n",
    "    game_losses = loss.mean(axis=1)\n",
    "    df = pd.DataFrame(game_losses)\n",
    "    df.to_csv(f\"output/mean_cp_loss/{player}.csv\")"
   ]
  },
  {
   "cell_type": "markdown",
   "id": "e790aae7",
   "metadata": {},
   "source": [
    "Calculate std cp loss"
   ]
  },
  {
   "cell_type": "code",
   "execution_count": 41,
   "id": "33d2d6a8",
   "metadata": {},
   "outputs": [],
   "source": [
    "for player in players:\n",
    "    loss = pd.read_csv(f\"output/cp_loss/{player}.csv\", index_col=0)\n",
    "    game_losses = loss.std(axis=1)\n",
    "    df = pd.DataFrame(game_losses)\n",
    "    df.to_csv(f\"output/std_cp_loss/{player}.csv\")"
   ]
  },
  {
   "cell_type": "markdown",
   "id": "2a1d4f3f",
   "metadata": {},
   "source": [
    "Calculate elo"
   ]
  },
  {
   "cell_type": "code",
   "execution_count": 26,
   "id": "80c503f5",
   "metadata": {},
   "outputs": [],
   "source": [
    "import re\n",
    "\n",
    "for player in players:\n",
    "    md = pd.read_csv(f\"output/metadata/{player}.csv\", index_col=0)\n",
    "    mask_w = md['White'].str.contains(player, flags=re.IGNORECASE, regex=True)\n",
    "    mask_b = md['Black'].str.contains(player, flags=re.IGNORECASE, regex=True)\n",
    "    md['Elo'] = 0\n",
    "    \n",
    "    md.loc[mask_w, 'Elo'] = md['WhiteElo']\n",
    "    md.loc[mask_b, 'Elo'] = md['BlackElo']\n",
    "    \n",
    "    df = pd.DataFrame(md['Elo'])\n",
    "    df.to_csv(f\"output/elo/{player}.csv\")"
   ]
  }
 ],
 "metadata": {
  "kernelspec": {
   "display_name": "Python 3.10.4 ('ANLY501')",
   "language": "python",
   "name": "python3"
  },
  "language_info": {
   "codemirror_mode": {
    "name": "ipython",
    "version": 3
   },
   "file_extension": ".py",
   "mimetype": "text/x-python",
   "name": "python",
   "nbconvert_exporter": "python",
   "pygments_lexer": "ipython3",
   "version": "3.10.4"
  },
  "vscode": {
   "interpreter": {
    "hash": "eadb65a309ebe0989826d71328347ef52d129ca1bd9af521e4d4f3d539f018a5"
   }
  }
 },
 "nbformat": 4,
 "nbformat_minor": 5
}
