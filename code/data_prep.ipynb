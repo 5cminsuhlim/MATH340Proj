{
 "cells": [
  {
   "cell_type": "markdown",
   "id": "83f33dc2-a7f2-4a9c-b398-dec86d02cd93",
   "metadata": {},
   "source": [
    "## Game Data"
   ]
  },
  {
   "cell_type": "code",
   "execution_count": 1,
   "id": "606b64ee-a278-4e97-8057-2c96b3d9e248",
   "metadata": {},
   "outputs": [],
   "source": [
    "# !pip install chessdata"
   ]
  },
  {
   "cell_type": "code",
   "execution_count": 2,
   "id": "70fc768d-e146-4f35-8244-d0d1fc0e14fd",
   "metadata": {},
   "outputs": [],
   "source": [
    "from pathlib import Path\n",
    "from chessdata.etf import pgn2df"
   ]
  },
  {
   "cell_type": "code",
   "execution_count": 3,
   "id": "669f3342-1b65-45d2-a679-8dc6ef28489e",
   "metadata": {},
   "outputs": [
    {
     "data": {
      "text/plain": [
       "['Anand',\n",
       " 'Andreikin',\n",
       " 'Aronian',\n",
       " 'Bu',\n",
       " 'carlsen',\n",
       " 'Caruana',\n",
       " 'ding',\n",
       " 'DominguezPerez',\n",
       " 'Duda',\n",
       " 'Eljanov',\n",
       " 'erigaisi',\n",
       " 'Firouzja',\n",
       " 'Giri',\n",
       " 'Grischuk',\n",
       " 'gukesh',\n",
       " 'Harikrishna',\n",
       " 'Karjakin',\n",
       " 'Le',\n",
       " 'Mamedyarov',\n",
       " 'Nakamura',\n",
       " 'nepo',\n",
       " 'niemann',\n",
       " 'Radjabov',\n",
       " 'Rapport',\n",
       " 'So',\n",
       " 'Tomashevsky',\n",
       " 'Topalov',\n",
       " 'VachierLagrave',\n",
       " 'VallejoPons',\n",
       " 'Vitiugov',\n",
       " 'WangH',\n",
       " 'Wei',\n",
       " 'Yu']"
      ]
     },
     "execution_count": 3,
     "metadata": {},
     "output_type": "execute_result"
    }
   ],
   "source": [
    "path = Path(\"./\")\n",
    "pgns = Path(path/\"pgns\")\n",
    "players = [pgn.stem for pgn in pgns.glob(\"*.pgn\")]\n",
    "players"
   ]
  },
  {
   "cell_type": "markdown",
   "id": "7d135389-7683-4ba4-add9-b6a26ab07430",
   "metadata": {},
   "source": [
    "Extract the game metadata from the pgn into a csv."
   ]
  },
  {
   "cell_type": "code",
   "execution_count": 4,
   "id": "bb52953b-f25b-49fa-822b-93897e41d914",
   "metadata": {},
   "outputs": [
    {
     "name": "stdout",
     "output_type": "stream",
     "text": [
      "Anand\n",
      "(153, 10)\n",
      "Andreikin\n",
      "(67, 10)\n",
      "Aronian\n",
      "(259, 10)\n",
      "Bu\n",
      "(13, 10)\n",
      "carlsen\n",
      "(259, 10)\n",
      "Caruana\n",
      "(315, 10)\n",
      "ding\n",
      "(59, 10)\n",
      "DominguezPerez\n",
      "(133, 10)\n",
      "Duda\n",
      "(302, 10)\n",
      "Eljanov\n",
      "(113, 10)\n",
      "erigaisi\n",
      "(280, 26)\n",
      "Firouzja\n",
      "(246, 10)\n",
      "Giri\n",
      "(249, 10)\n",
      "Grischuk\n",
      "(122, 10)\n",
      "gukesh\n",
      "(279, 26)\n",
      "Harikrishna\n",
      "(177, 10)\n",
      "Karjakin\n",
      "(150, 10)\n",
      "Le\n",
      "(7, 10)\n",
      "Mamedyarov\n",
      "(334, 10)\n",
      "Nakamura\n",
      "(64, 10)\n",
      "nepo\n",
      "(78, 22)\n",
      "niemann\n",
      "(362, 24)\n",
      "Radjabov\n",
      "(77, 10)\n",
      "Rapport\n",
      "(245, 10)\n",
      "So\n",
      "(206, 10)\n",
      "Tomashevsky\n",
      "(65, 10)\n",
      "Topalov\n",
      "(101, 10)\n",
      "VachierLagrave\n",
      "(283, 10)\n",
      "VallejoPons\n",
      "(71, 10)\n",
      "Vitiugov\n",
      "(130, 10)\n",
      "WangH\n",
      "(57, 10)\n",
      "Wei\n",
      "(38, 10)\n",
      "Yu\n",
      "(84, 10)\n"
     ]
    }
   ],
   "source": [
    "for player in players:\n",
    "    pgn = open(pgns/f\"{player}.pgn\")\n",
    "    df = pgn2df(pgn)\n",
    "    df = df[df['Date'] > '2020.01.01'] ## only keep games after 2020\n",
    "    df = df[df['Site'].str.contains(\".com\")==False] ## only keep over-the-board chess (i.e. remove online games)\n",
    "    df = df[df['Site'].str.contains(\".org\")==False] ## only keep over-the-board chess (i.e. remove online games)\n",
    "    df = df[df['Event'].str.contains(\"Online\")==False] ## only keep over-the-board chess (i.e. remove online games)\n",
    "    print(player)\n",
    "    print(df.shape)\n",
    "    df.to_csv(path/f\"output/metadata/{player}.csv\")"
   ]
  },
  {
   "cell_type": "markdown",
   "id": "98b5271e-b235-4437-a663-89864846387d",
   "metadata": {},
   "source": [
    "## Engine Evals"
   ]
  },
  {
   "cell_type": "code",
   "execution_count": 5,
   "id": "f6e84378-600c-404e-aa13-49dde9c63a5c",
   "metadata": {},
   "outputs": [],
   "source": [
    "from datetime import datetime\n",
    "import chess.engine\n",
    "from chessdata.engine import evaluate_pgn"
   ]
  },
  {
   "cell_type": "code",
   "execution_count": 6,
   "id": "e74273d0-f97c-48ce-9be0-58f4e371ef91",
   "metadata": {},
   "outputs": [],
   "source": [
    "stockfish = './stockfish_15_x64_avx2.exe' # location of your stockfish executable"
   ]
  },
  {
   "cell_type": "markdown",
   "id": "c5ceae27-400d-4f04-bc8a-f936473a33bc",
   "metadata": {},
   "source": [
    "Analyze all games move-by-move. Warning: this takes a long time!"
   ]
  },
  {
   "cell_type": "code",
   "execution_count": 7,
   "id": "9793f027-73b0-4527-970b-0318c4da8bb0",
   "metadata": {},
   "outputs": [
    {
     "name": "stdout",
     "output_type": "stream",
     "text": [
      "Anand\n",
      "2022-11-27 09:56:00\n"
     ]
    }
   ],
   "source": [
    "for player in players:\n",
    "    print(player)\n",
    "    print(datetime.now().strftime('%Y-%m-%d %H:%M:%S'))\n",
    "    engine = chess.engine.SimpleEngine.popen_uci(stockfish)\n",
    "    pgn = open(pgns/f\"{player}.pgn\")\n",
    "    evals = evaluate_pgn(pgn, engine, limit=chess.engine.Limit(depth=15))\n",
    "    evals.to_csv(path/f\"output/centipawns/{player}.csv\")"
   ]
  }
 ],
 "metadata": {
  "kernelspec": {
   "display_name": "Python 3.10.4 ('ANLY501')",
   "language": "python",
   "name": "python3"
  },
  "language_info": {
   "codemirror_mode": {
    "name": "ipython",
    "version": 3
   },
   "file_extension": ".py",
   "mimetype": "text/x-python",
   "name": "python",
   "nbconvert_exporter": "python",
   "pygments_lexer": "ipython3",
   "version": "3.10.4"
  },
  "vscode": {
   "interpreter": {
    "hash": "eadb65a309ebe0989826d71328347ef52d129ca1bd9af521e4d4f3d539f018a5"
   }
  }
 },
 "nbformat": 4,
 "nbformat_minor": 5
}
