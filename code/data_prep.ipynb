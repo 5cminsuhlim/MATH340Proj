{
 "cells": [
  {
   "cell_type": "markdown",
   "id": "83f33dc2-a7f2-4a9c-b398-dec86d02cd93",
   "metadata": {},
   "source": [
    "## Game Data"
   ]
  },
  {
   "cell_type": "code",
   "execution_count": null,
   "id": "606b64ee-a278-4e97-8057-2c96b3d9e248",
   "metadata": {},
   "outputs": [],
   "source": [
    "# !pip install chessdata"
   ]
  },
  {
   "cell_type": "code",
   "execution_count": null,
   "id": "70fc768d-e146-4f35-8244-d0d1fc0e14fd",
   "metadata": {},
   "outputs": [],
   "source": [
    "from pathlib import Path\n",
    "from chessdata.etf import pgn2df"
   ]
  },
  {
   "cell_type": "code",
   "execution_count": null,
   "id": "669f3342-1b65-45d2-a679-8dc6ef28489e",
   "metadata": {},
   "outputs": [],
   "source": [
    "path = Path(\"./\")\n",
    "pgns = Path(path/\"pgns\")\n",
    "players = [pgn.stem for pgn in pgns.glob(\"*.pgn\")]\n",
    "players"
   ]
  },
  {
   "cell_type": "markdown",
   "id": "7d135389-7683-4ba4-add9-b6a26ab07430",
   "metadata": {},
   "source": [
    "Extract the game metadata from the pgn into a csv."
   ]
  },
  {
   "cell_type": "code",
   "execution_count": null,
   "id": "bb52953b-f25b-49fa-822b-93897e41d914",
   "metadata": {},
   "outputs": [],
   "source": [
    "for player in players:\n",
    "    pgn = open(pgns/f\"{player}.pgn\")\n",
    "    df = pgn2df(pgn)\n",
    "    df = df[df['Date'] > '2020.01.01'] ## only keep games after 2020\n",
    "    df = df[df['Site'].str.contains(\".com\")==False] ## only keep over-the-board chess (i.e. remove online games)\n",
    "    df = df[df['Site'].str.contains(\".org\")==False] ## only keep over-the-board chess (i.e. remove online games)\n",
    "    df = df[df['Event'].str.contains(\"Online\")==False] ## only keep over-the-board chess (i.e. remove online games)\n",
    "    print(player)\n",
    "    print(df.shape)\n",
    "    df.to_csv(path/f\"output/metadata/{player}.csv\")"
   ]
  },
  {
   "cell_type": "markdown",
   "id": "98b5271e-b235-4437-a663-89864846387d",
   "metadata": {},
   "source": [
    "## Engine Evals"
   ]
  },
  {
   "cell_type": "code",
   "execution_count": null,
   "id": "f6e84378-600c-404e-aa13-49dde9c63a5c",
   "metadata": {},
   "outputs": [],
   "source": [
    "from datetime import datetime\n",
    "import chess.engine\n",
    "from chessdata.engine import evaluate_pgn"
   ]
  },
  {
   "cell_type": "code",
   "execution_count": null,
   "id": "e74273d0-f97c-48ce-9be0-58f4e371ef91",
   "metadata": {},
   "outputs": [],
   "source": [
    "stockfish = './stockfish_15_x64_avx2.exe' # location of your stockfish executable"
   ]
  },
  {
   "cell_type": "markdown",
   "id": "c5ceae27-400d-4f04-bc8a-f936473a33bc",
   "metadata": {},
   "source": [
    "Analyze all games move-by-move. Warning: this takes a long time!"
   ]
  },
  {
   "cell_type": "code",
   "execution_count": null,
   "id": "9793f027-73b0-4527-970b-0318c4da8bb0",
   "metadata": {},
   "outputs": [],
   "source": [
    "for player in players:\n",
    "    print(player)\n",
    "    print(datetime.now().strftime('%Y-%m-%d %H:%M:%S'))\n",
    "    engine = chess.engine.SimpleEngine.popen_uci(stockfish)\n",
    "    pgn = open(pgns/f\"{player}.pgn\")\n",
    "    evals = evaluate_pgn(pgn, engine, limit=chess.engine.Limit(depth=15))\n",
    "    evals.to_csv(path/f\"output/centipawns/{player}.csv\")"
   ]
  }
 ],
 "metadata": {
  "kernelspec": {
   "display_name": "Python 3.10.4 ('ANLY501')",
   "language": "python",
   "name": "python3"
  },
  "language_info": {
   "codemirror_mode": {
    "name": "ipython",
    "version": 3
   },
   "file_extension": ".py",
   "mimetype": "text/x-python",
   "name": "python",
   "nbconvert_exporter": "python",
   "pygments_lexer": "ipython3",
   "version": "3.10.4"
  },
  "vscode": {
   "interpreter": {
    "hash": "eadb65a309ebe0989826d71328347ef52d129ca1bd9af521e4d4f3d539f018a5"
   }
  }
 },
 "nbformat": 4,
 "nbformat_minor": 5
}
